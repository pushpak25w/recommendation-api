{
 "cells": [
  {
   "cell_type": "code",
   "execution_count": 1,
   "id": "32813553",
   "metadata": {
    "_cell_guid": "b1076dfc-b9ad-4769-8c92-a6c4dae69d19",
    "_uuid": "8f2839f25d086af736a60e9eeb907d3b93b6e0e5",
    "execution": {
     "iopub.execute_input": "2022-01-14T15:40:21.165163Z",
     "iopub.status.busy": "2022-01-14T15:40:21.163307Z",
     "iopub.status.idle": "2022-01-14T15:40:29.087495Z",
     "shell.execute_reply": "2022-01-14T15:40:29.088011Z",
     "shell.execute_reply.started": "2022-01-14T15:21:58.424987Z"
    },
    "papermill": {
     "duration": 7.952101,
     "end_time": "2022-01-14T15:40:29.088342",
     "exception": false,
     "start_time": "2022-01-14T15:40:21.136241",
     "status": "completed"
    },
    "tags": []
   },
   "outputs": [],
   "source": [
    "import pandas as pd\n",
    "import numpy as np\n",
    "import string\n",
    "import operator\n",
    "from numpy import nan\n",
    "from sklearn.model_selection import train_test_split\n",
    "from sklearn.feature_extraction.text import TfidfVectorizer\n",
    "from tensorflow.keras.layers import Input, LSTM, Embedding, Dense, Dropout\n",
    "from tensorflow.keras.models import Model,Sequential\n",
    "from tensorflow.keras.preprocessing.sequence import pad_sequences\n",
    "from tensorflow.keras.preprocessing.text import Tokenizer\n",
    "import os\n",
    "import pickle\n",
    "import keras\n",
    "import scikitplot as skplt \n",
    "from sklearn import metrics\n",
    "from sklearn.metrics import confusion_matrix\n",
    "import matplotlib.pyplot as plt\n",
    "import seaborn as sns\n",
    "os.environ['TF_XLA_FLAGS'] = '--tf_xla_enable_xla_devices'"
   ]
  },
  {
   "cell_type": "code",
   "execution_count": 2,
   "id": "d5299d34",
   "metadata": {
    "execution": {
     "iopub.execute_input": "2022-01-14T15:40:29.134328Z",
     "iopub.status.busy": "2022-01-14T15:40:29.133659Z",
     "iopub.status.idle": "2022-01-14T15:40:29.501183Z",
     "shell.execute_reply": "2022-01-14T15:40:29.500539Z",
     "shell.execute_reply.started": "2022-01-14T15:00:15.123329Z"
    },
    "papermill": {
     "duration": 0.391809,
     "end_time": "2022-01-14T15:40:29.501350",
     "exception": false,
     "start_time": "2022-01-14T15:40:29.109541",
     "status": "completed"
    },
    "tags": []
   },
   "outputs": [
    {
     "name": "stdout",
     "output_type": "stream",
     "text": [
      "(111511, 3)\n"
     ]
    },
    {
     "data": {
      "text/html": [
       "<div>\n",
       "<style scoped>\n",
       "    .dataframe tbody tr th:only-of-type {\n",
       "        vertical-align: middle;\n",
       "    }\n",
       "\n",
       "    .dataframe tbody tr th {\n",
       "        vertical-align: top;\n",
       "    }\n",
       "\n",
       "    .dataframe thead th {\n",
       "        text-align: right;\n",
       "    }\n",
       "</style>\n",
       "<table border=\"1\" class=\"dataframe\">\n",
       "  <thead>\n",
       "    <tr style=\"text-align: right;\">\n",
       "      <th></th>\n",
       "      <th>title</th>\n",
       "      <th>video_id</th>\n",
       "      <th>categoryId</th>\n",
       "    </tr>\n",
       "  </thead>\n",
       "  <tbody>\n",
       "    <tr>\n",
       "      <th>0</th>\n",
       "      <td>i asked her to be my girlfriend</td>\n",
       "      <td>3C66w5Z0ixs</td>\n",
       "      <td>22</td>\n",
       "    </tr>\n",
       "    <tr>\n",
       "      <th>1</th>\n",
       "      <td>apex legends stories from the outlands the end...</td>\n",
       "      <td>M9Pmf9AB4Mo</td>\n",
       "      <td>20</td>\n",
       "    </tr>\n",
       "    <tr>\n",
       "      <th>2</th>\n",
       "      <td>i left youtube for a month and this is what ha...</td>\n",
       "      <td>J78aPJ3VyNs</td>\n",
       "      <td>24</td>\n",
       "    </tr>\n",
       "    <tr>\n",
       "      <th>3</th>\n",
       "      <td>xxl freshman class revealed official announcement</td>\n",
       "      <td>kXLn3HkpjaA</td>\n",
       "      <td>10</td>\n",
       "    </tr>\n",
       "    <tr>\n",
       "      <th>4</th>\n",
       "      <td>ultimate diy home movie theater for the labran...</td>\n",
       "      <td>VIUo6yapDbc</td>\n",
       "      <td>26</td>\n",
       "    </tr>\n",
       "  </tbody>\n",
       "</table>\n",
       "</div>"
      ],
      "text/plain": [
       "                                               title     video_id  categoryId\n",
       "0                    i asked her to be my girlfriend  3C66w5Z0ixs          22\n",
       "1  apex legends stories from the outlands the end...  M9Pmf9AB4Mo          20\n",
       "2  i left youtube for a month and this is what ha...  J78aPJ3VyNs          24\n",
       "3  xxl freshman class revealed official announcement  kXLn3HkpjaA          10\n",
       "4  ultimate diy home movie theater for the labran...  VIUo6yapDbc          26"
      ]
     },
     "execution_count": 2,
     "metadata": {},
     "output_type": "execute_result"
    }
   ],
   "source": [
    "data=pd.read_csv('../input/youtube-video-titles/YT.csv')\n",
    "data=data[['title','video_id','categoryId']]\n",
    "print(data.shape)\n",
    "data.head()"
   ]
  },
  {
   "cell_type": "code",
   "execution_count": 3,
   "id": "6ddda6f1",
   "metadata": {
    "execution": {
     "iopub.execute_input": "2022-01-14T15:40:29.552357Z",
     "iopub.status.busy": "2022-01-14T15:40:29.551375Z",
     "iopub.status.idle": "2022-01-14T15:40:29.555297Z",
     "shell.execute_reply": "2022-01-14T15:40:29.555841Z",
     "shell.execute_reply.started": "2022-01-14T15:00:15.395126Z"
    },
    "papermill": {
     "duration": 0.029803,
     "end_time": "2022-01-14T15:40:29.556020",
     "exception": false,
     "start_time": "2022-01-14T15:40:29.526217",
     "status": "completed"
    },
    "tags": []
   },
   "outputs": [],
   "source": [
    "max_length=100\n",
    "len_words=60431"
   ]
  },
  {
   "cell_type": "code",
   "execution_count": 4,
   "id": "461c439d",
   "metadata": {
    "execution": {
     "iopub.execute_input": "2022-01-14T15:40:29.607737Z",
     "iopub.status.busy": "2022-01-14T15:40:29.606728Z",
     "iopub.status.idle": "2022-01-14T15:40:30.023656Z",
     "shell.execute_reply": "2022-01-14T15:40:30.022750Z",
     "shell.execute_reply.started": "2022-01-14T15:00:15.404732Z"
    },
    "papermill": {
     "duration": 0.446876,
     "end_time": "2022-01-14T15:40:30.023847",
     "exception": false,
     "start_time": "2022-01-14T15:40:29.576971",
     "status": "completed"
    },
    "tags": []
   },
   "outputs": [
    {
     "name": "stderr",
     "output_type": "stream",
     "text": [
      "\n",
      "User settings:\n",
      "\n",
      "   KMP_AFFINITY=granularity=fine,verbose,compact,1,0\n",
      "   KMP_BLOCKTIME=0\n",
      "   KMP_DUPLICATE_LIB_OK=True\n",
      "   KMP_INIT_AT_FORK=FALSE\n",
      "   KMP_SETTINGS=1\n",
      "   KMP_WARNINGS=0\n",
      "\n",
      "Effective settings:\n",
      "\n",
      "   KMP_ABORT_DELAY=0\n",
      "   KMP_ADAPTIVE_LOCK_PROPS='1,1024'\n",
      "   KMP_ALIGN_ALLOC=64\n",
      "   KMP_ALL_THREADPRIVATE=128\n",
      "   KMP_ATOMIC_MODE=2\n",
      "   KMP_BLOCKTIME=0\n",
      "   KMP_CPUINFO_FILE: value is not defined\n",
      "   KMP_DETERMINISTIC_REDUCTION=false\n",
      "   KMP_DEVICE_THREAD_LIMIT=2147483647\n",
      "   KMP_DISP_NUM_BUFFERS=7\n",
      "   KMP_DUPLICATE_LIB_OK=true\n",
      "   KMP_ENABLE_TASK_THROTTLING=true\n",
      "   KMP_FORCE_REDUCTION: value is not defined\n",
      "   KMP_FOREIGN_THREADS_THREADPRIVATE=true\n",
      "   KMP_FORKJOIN_BARRIER='2,2'\n",
      "   KMP_FORKJOIN_BARRIER_PATTERN='hyper,hyper'\n",
      "   KMP_GTID_MODE=3\n",
      "   KMP_HANDLE_SIGNALS=false\n",
      "   KMP_HOT_TEAMS_MAX_LEVEL=1\n",
      "   KMP_HOT_TEAMS_MODE=0\n",
      "   KMP_INIT_AT_FORK=true\n",
      "   KMP_LIBRARY=throughput\n",
      "   KMP_LOCK_KIND=queuing\n",
      "   KMP_MALLOC_POOL_INCR=1M\n",
      "   KMP_NUM_LOCKS_IN_BLOCK=1\n",
      "   KMP_PLAIN_BARRIER='2,2'\n",
      "   KMP_PLAIN_BARRIER_PATTERN='hyper,hyper'\n",
      "   KMP_REDUCTION_BARRIER='1,1'\n",
      "   KMP_REDUCTION_BARRIER_PATTERN='hyper,hyper'\n",
      "   KMP_SCHEDULE='static,balanced;guided,iterative'\n",
      "   KMP_SETTINGS=true\n",
      "   KMP_SPIN_BACKOFF_PARAMS='4096,100'\n",
      "   KMP_STACKOFFSET=64\n",
      "   KMP_STACKPAD=0\n",
      "   KMP_STACKSIZE=8M\n",
      "   KMP_STORAGE_MAP=false\n",
      "   KMP_TASKING=2\n",
      "   KMP_TASKLOOP_MIN_TASKS=0\n",
      "   KMP_TASK_STEALING_CONSTRAINT=1\n",
      "   KMP_TEAMS_THREAD_LIMIT=4\n",
      "   KMP_TOPOLOGY_METHOD=all\n",
      "   KMP_USE_YIELD=1\n",
      "   KMP_VERSION=false\n",
      "   KMP_WARNINGS=false\n",
      "   OMP_AFFINITY_FORMAT='OMP: pid %P tid %i thread %n bound to OS proc set {%A}'\n",
      "   OMP_ALLOCATOR=omp_default_mem_alloc\n",
      "   OMP_CANCELLATION=false\n",
      "   OMP_DEFAULT_DEVICE=0\n",
      "   OMP_DISPLAY_AFFINITY=false\n",
      "   OMP_DISPLAY_ENV=false\n",
      "   OMP_DYNAMIC=false\n",
      "   OMP_MAX_ACTIVE_LEVELS=1\n",
      "   OMP_MAX_TASK_PRIORITY=0\n",
      "   OMP_NESTED: deprecated; max-active-levels-var=1\n",
      "   OMP_NUM_THREADS: value is not defined\n",
      "   OMP_PLACES: value is not defined\n",
      "   OMP_PROC_BIND='intel'\n",
      "   OMP_SCHEDULE='static'\n",
      "   OMP_STACKSIZE=8M\n",
      "   OMP_TARGET_OFFLOAD=DEFAULT\n",
      "   OMP_THREAD_LIMIT=2147483647\n",
      "   OMP_WAIT_POLICY=PASSIVE\n",
      "   KMP_AFFINITY='verbose,warnings,respect,granularity=fine,compact,1,0'\n",
      "\n",
      "2022-01-14 15:40:29.668310: I tensorflow/compiler/xla/service/service.cc:171] XLA service 0x564d77308710 initialized for platform Host (this does not guarantee that XLA will be used). Devices:\n",
      "2022-01-14 15:40:29.668392: I tensorflow/compiler/xla/service/service.cc:179]   StreamExecutor device (0): Host, Default Version\n",
      "2022-01-14 15:40:29.669373: I tensorflow/core/common_runtime/process_util.cc:146] Creating new thread pool with default inter op setting: 2. Tune using inter_op_parallelism_threads for best performance.\n"
     ]
    },
    {
     "name": "stdout",
     "output_type": "stream",
     "text": [
      "Model: \"sequential\"\n",
      "_________________________________________________________________\n",
      "Layer (type)                 Output Shape              Param #   \n",
      "=================================================================\n",
      "embedding (Embedding)        (None, 100, 100)          6043100   \n",
      "_________________________________________________________________\n",
      "dropout (Dropout)            (None, 100, 100)          0         \n",
      "_________________________________________________________________\n",
      "lstm (LSTM)                  (None, 100)               80400     \n",
      "_________________________________________________________________\n",
      "dense (Dense)                (None, 44)                4444      \n",
      "=================================================================\n",
      "Total params: 6,127,944\n",
      "Trainable params: 6,127,944\n",
      "Non-trainable params: 0\n",
      "_________________________________________________________________\n"
     ]
    }
   ],
   "source": [
    "model=Sequential()\n",
    "model.add(Embedding(len_words,100,input_length=max_length))\n",
    "model.add(Dropout(0.2))\n",
    "model.add(LSTM(100,dropout=0.2,recurrent_dropout=0.2))\n",
    "model.add(Dense(44,activation='softmax'))\n",
    "model.compile(loss='sparse_categorical_crossentropy',optimizer='adam',metrics=['accuracy'])\n",
    "model.summary()"
   ]
  },
  {
   "cell_type": "code",
   "execution_count": 5,
   "id": "7d3ae485",
   "metadata": {
    "execution": {
     "iopub.execute_input": "2022-01-14T15:40:30.090474Z",
     "iopub.status.busy": "2022-01-14T15:40:30.089704Z",
     "iopub.status.idle": "2022-01-14T15:40:30.941255Z",
     "shell.execute_reply": "2022-01-14T15:40:30.941992Z",
     "shell.execute_reply.started": "2022-01-14T15:00:15.640403Z"
    },
    "papermill": {
     "duration": 0.894504,
     "end_time": "2022-01-14T15:40:30.942213",
     "exception": false,
     "start_time": "2022-01-14T15:40:30.047709",
     "status": "completed"
    },
    "tags": []
   },
   "outputs": [],
   "source": [
    "model.load_weights('../input/weights-and-tokenizer/YTlstm.h5')\n",
    "with open('../input/weights-and-tokenizer/tokenizer.pickle', 'rb') as handle:\n",
    "    tokenizer = pickle.load(handle)"
   ]
  },
  {
   "cell_type": "code",
   "execution_count": 6,
   "id": "409cf908",
   "metadata": {
    "execution": {
     "iopub.execute_input": "2022-01-14T15:40:30.993956Z",
     "iopub.status.busy": "2022-01-14T15:40:30.993244Z",
     "iopub.status.idle": "2022-01-14T15:40:30.998722Z",
     "shell.execute_reply": "2022-01-14T15:40:30.999298Z",
     "shell.execute_reply.started": "2022-01-14T15:00:16.768723Z"
    },
    "papermill": {
     "duration": 0.032636,
     "end_time": "2022-01-14T15:40:30.999478",
     "exception": false,
     "start_time": "2022-01-14T15:40:30.966842",
     "status": "completed"
    },
    "tags": []
   },
   "outputs": [],
   "source": [
    "x=data['title']\n",
    "y=data['categoryId']"
   ]
  },
  {
   "cell_type": "code",
   "execution_count": 7,
   "id": "d168b4f9",
   "metadata": {
    "execution": {
     "iopub.execute_input": "2022-01-14T15:40:31.053830Z",
     "iopub.status.busy": "2022-01-14T15:40:31.053085Z",
     "iopub.status.idle": "2022-01-14T15:40:33.984091Z",
     "shell.execute_reply": "2022-01-14T15:40:33.983504Z",
     "shell.execute_reply.started": "2022-01-14T15:00:18.754623Z"
    },
    "papermill": {
     "duration": 2.961654,
     "end_time": "2022-01-14T15:40:33.984242",
     "exception": false,
     "start_time": "2022-01-14T15:40:31.022588",
     "status": "completed"
    },
    "tags": []
   },
   "outputs": [],
   "source": [
    "x=tokenizer.texts_to_sequences(x)\n",
    "x=pad_sequences(x,maxlen=max_length)"
   ]
  },
  {
   "cell_type": "code",
   "execution_count": 8,
   "id": "4d28d6de",
   "metadata": {
    "execution": {
     "iopub.execute_input": "2022-01-14T15:40:34.035415Z",
     "iopub.status.busy": "2022-01-14T15:40:34.034705Z",
     "iopub.status.idle": "2022-01-14T15:40:34.680882Z",
     "shell.execute_reply": "2022-01-14T15:40:34.679926Z",
     "shell.execute_reply.started": "2022-01-14T15:00:21.440092Z"
    },
    "papermill": {
     "duration": 0.67347,
     "end_time": "2022-01-14T15:40:34.681046",
     "exception": false,
     "start_time": "2022-01-14T15:40:34.007576",
     "status": "completed"
    },
    "tags": []
   },
   "outputs": [
    {
     "name": "stderr",
     "output_type": "stream",
     "text": [
      "2022-01-14 15:40:34.091140: I tensorflow/compiler/mlir/mlir_graph_optimization_pass.cc:185] None of the MLIR Optimization Passes are enabled (registered 2)\n"
     ]
    }
   ],
   "source": [
    "y_pred=model.predict(np.array([x[90001]]))"
   ]
  },
  {
   "cell_type": "code",
   "execution_count": 9,
   "id": "d0b29c21",
   "metadata": {
    "execution": {
     "iopub.execute_input": "2022-01-14T15:40:34.737407Z",
     "iopub.status.busy": "2022-01-14T15:40:34.736490Z",
     "iopub.status.idle": "2022-01-14T15:40:34.740384Z",
     "shell.execute_reply": "2022-01-14T15:40:34.740861Z",
     "shell.execute_reply.started": "2022-01-14T14:55:15.470214Z"
    },
    "papermill": {
     "duration": 0.034719,
     "end_time": "2022-01-14T15:40:34.741043",
     "exception": false,
     "start_time": "2022-01-14T15:40:34.706324",
     "status": "completed"
    },
    "tags": []
   },
   "outputs": [
    {
     "data": {
      "text/plain": [
       "'sapna choudhary bigg boss exclusive interview'"
      ]
     },
     "execution_count": 9,
     "metadata": {},
     "output_type": "execute_result"
    }
   ],
   "source": [
    "data['title'][90001]"
   ]
  },
  {
   "cell_type": "code",
   "execution_count": 10,
   "id": "35ee66d1",
   "metadata": {
    "execution": {
     "iopub.execute_input": "2022-01-14T15:40:34.797554Z",
     "iopub.status.busy": "2022-01-14T15:40:34.796348Z",
     "iopub.status.idle": "2022-01-14T15:40:34.799896Z",
     "shell.execute_reply": "2022-01-14T15:40:34.799271Z",
     "shell.execute_reply.started": "2022-01-14T14:55:15.480238Z"
    },
    "papermill": {
     "duration": 0.035112,
     "end_time": "2022-01-14T15:40:34.800046",
     "exception": false,
     "start_time": "2022-01-14T15:40:34.764934",
     "status": "completed"
    },
    "tags": []
   },
   "outputs": [],
   "source": [
    "y_pred = np.argmax(y_pred, axis=1)"
   ]
  },
  {
   "cell_type": "code",
   "execution_count": 11,
   "id": "d6ad2e6c",
   "metadata": {
    "execution": {
     "iopub.execute_input": "2022-01-14T15:40:34.853358Z",
     "iopub.status.busy": "2022-01-14T15:40:34.852536Z",
     "iopub.status.idle": "2022-01-14T15:40:34.856878Z",
     "shell.execute_reply": "2022-01-14T15:40:34.857394Z",
     "shell.execute_reply.started": "2022-01-14T14:55:15.493052Z"
    },
    "papermill": {
     "duration": 0.030975,
     "end_time": "2022-01-14T15:40:34.857575",
     "exception": false,
     "start_time": "2022-01-14T15:40:34.826600",
     "status": "completed"
    },
    "tags": []
   },
   "outputs": [
    {
     "name": "stdout",
     "output_type": "stream",
     "text": [
      "[22]\n"
     ]
    }
   ],
   "source": [
    "print(y_pred)"
   ]
  },
  {
   "cell_type": "code",
   "execution_count": 12,
   "id": "ab7d8f3d",
   "metadata": {
    "execution": {
     "iopub.execute_input": "2022-01-14T15:40:34.909858Z",
     "iopub.status.busy": "2022-01-14T15:40:34.909175Z",
     "iopub.status.idle": "2022-01-14T15:44:15.441403Z",
     "shell.execute_reply": "2022-01-14T15:44:15.440804Z",
     "shell.execute_reply.started": "2022-01-14T14:55:15.510466Z"
    },
    "papermill": {
     "duration": 220.559449,
     "end_time": "2022-01-14T15:44:15.441581",
     "exception": false,
     "start_time": "2022-01-14T15:40:34.882132",
     "status": "completed"
    },
    "tags": []
   },
   "outputs": [],
   "source": [
    "scores = model.evaluate(x, y, verbose=0)"
   ]
  },
  {
   "cell_type": "code",
   "execution_count": 13,
   "id": "a5a4cc8f",
   "metadata": {
    "execution": {
     "iopub.execute_input": "2022-01-14T15:44:15.495148Z",
     "iopub.status.busy": "2022-01-14T15:44:15.494472Z",
     "iopub.status.idle": "2022-01-14T15:44:15.499224Z",
     "shell.execute_reply": "2022-01-14T15:44:15.499740Z",
     "shell.execute_reply.started": "2022-01-14T14:59:34.531119Z"
    },
    "papermill": {
     "duration": 0.030851,
     "end_time": "2022-01-14T15:44:15.500053",
     "exception": false,
     "start_time": "2022-01-14T15:44:15.469202",
     "status": "completed"
    },
    "tags": []
   },
   "outputs": [
    {
     "name": "stdout",
     "output_type": "stream",
     "text": [
      "['loss', 'accuracy']\n",
      "[0.23077978193759918, 0.9593223929405212]\n"
     ]
    }
   ],
   "source": [
    "print(model.metrics_names)\n",
    "print(scores)"
   ]
  },
  {
   "cell_type": "code",
   "execution_count": 14,
   "id": "1c2fe5d2",
   "metadata": {
    "execution": {
     "iopub.execute_input": "2022-01-14T15:44:15.555463Z",
     "iopub.status.busy": "2022-01-14T15:44:15.554730Z",
     "iopub.status.idle": "2022-01-14T15:48:10.471294Z",
     "shell.execute_reply": "2022-01-14T15:48:10.472059Z",
     "shell.execute_reply.started": "2022-01-14T15:30:48.011233Z"
    },
    "papermill": {
     "duration": 234.946041,
     "end_time": "2022-01-14T15:48:10.472255",
     "exception": false,
     "start_time": "2022-01-14T15:44:15.526214",
     "status": "completed"
    },
    "tags": []
   },
   "outputs": [],
   "source": [
    "y_probas = model.predict(x)"
   ]
  },
  {
   "cell_type": "code",
   "execution_count": 15,
   "id": "4f192277",
   "metadata": {
    "execution": {
     "iopub.execute_input": "2022-01-14T15:48:10.526705Z",
     "iopub.status.busy": "2022-01-14T15:48:10.526011Z",
     "iopub.status.idle": "2022-01-14T15:48:10.540341Z",
     "shell.execute_reply": "2022-01-14T15:48:10.539788Z",
     "shell.execute_reply.started": "2022-01-14T15:35:07.772233Z"
    },
    "papermill": {
     "duration": 0.043442,
     "end_time": "2022-01-14T15:48:10.540521",
     "exception": false,
     "start_time": "2022-01-14T15:48:10.497079",
     "status": "completed"
    },
    "tags": []
   },
   "outputs": [],
   "source": [
    "y_pred = np.argmax(y_probas, axis=1)\n",
    "y_test = np.array(y.astype(int))"
   ]
  },
  {
   "cell_type": "code",
   "execution_count": 16,
   "id": "1689884c",
   "metadata": {
    "execution": {
     "iopub.execute_input": "2022-01-14T15:48:10.600597Z",
     "iopub.status.busy": "2022-01-14T15:48:10.599463Z",
     "iopub.status.idle": "2022-01-14T15:48:10.936382Z",
     "shell.execute_reply": "2022-01-14T15:48:10.935838Z",
     "shell.execute_reply.started": "2022-01-14T15:35:07.790273Z"
    },
    "papermill": {
     "duration": 0.371316,
     "end_time": "2022-01-14T15:48:10.936547",
     "exception": false,
     "start_time": "2022-01-14T15:48:10.565231",
     "status": "completed"
    },
    "tags": []
   },
   "outputs": [
    {
     "name": "stdout",
     "output_type": "stream",
     "text": [
      "<class 'numpy.ndarray'> <class 'numpy.ndarray'> [22 20 24 10 26] [22 20 24 10 26]\n"
     ]
    }
   ],
   "source": [
    "print(type(y_pred),type(y_test),y_pred[:5],y_test[:5])\n",
    "classes=np.unique(y.astype(str))"
   ]
  },
  {
   "cell_type": "code",
   "execution_count": 17,
   "id": "12f63bee",
   "metadata": {
    "execution": {
     "iopub.execute_input": "2022-01-14T15:48:10.995107Z",
     "iopub.status.busy": "2022-01-14T15:48:10.994269Z",
     "iopub.status.idle": "2022-01-14T15:48:11.240787Z",
     "shell.execute_reply": "2022-01-14T15:48:11.241298Z",
     "shell.execute_reply.started": "2022-01-14T15:35:08.140729Z"
    },
    "papermill": {
     "duration": 0.276144,
     "end_time": "2022-01-14T15:48:11.241489",
     "exception": false,
     "start_time": "2022-01-14T15:48:10.965345",
     "status": "completed"
    },
    "tags": []
   },
   "outputs": [
    {
     "name": "stdout",
     "output_type": "stream",
     "text": [
      "              precision    recall  f1-score   support\n",
      "\n",
      "           1       0.94      0.92      0.93      3098\n",
      "          10       0.97      0.96      0.96      1159\n",
      "          15       0.97      0.98      0.97     12702\n",
      "          17       0.97      0.93      0.95       487\n",
      "          19       0.98      0.98      0.98      9728\n",
      "           2       0.98      0.97      0.97      1872\n",
      "          20       0.96      0.96      0.96      6574\n",
      "          22       0.91      0.92      0.92     10168\n",
      "          23       0.95      0.94      0.94      6792\n",
      "          24       0.96      0.97      0.96     35021\n",
      "          25       0.96      0.96      0.96      7440\n",
      "          26       0.95      0.95      0.95      5630\n",
      "          27       0.97      0.96      0.97      5705\n",
      "          28       0.96      0.97      0.96      4825\n",
      "          29       0.97      0.94      0.95       164\n",
      "          30       1.00      1.00      1.00         2\n",
      "          43       0.69      0.46      0.55       144\n",
      "\n",
      "    accuracy                           0.96    111511\n",
      "   macro avg       0.95      0.93      0.94    111511\n",
      "weighted avg       0.96      0.96      0.96    111511\n",
      "\n"
     ]
    }
   ],
   "source": [
    "print(metrics.classification_report(y_test, y_pred, target_names=list(classes)))"
   ]
  },
  {
   "cell_type": "code",
   "execution_count": 18,
   "id": "f1fb348a",
   "metadata": {
    "execution": {
     "iopub.execute_input": "2022-01-14T15:48:11.300094Z",
     "iopub.status.busy": "2022-01-14T15:48:11.299231Z",
     "iopub.status.idle": "2022-01-14T15:48:12.880368Z",
     "shell.execute_reply": "2022-01-14T15:48:12.879704Z",
     "shell.execute_reply.started": "2022-01-14T15:35:08.374570Z"
    },
    "papermill": {
     "duration": 1.611508,
     "end_time": "2022-01-14T15:48:12.880543",
     "exception": false,
     "start_time": "2022-01-14T15:48:11.269035",
     "status": "completed"
    },
    "tags": []
   },
   "outputs": [
    {
     "data": {
      "image/png": "[encoded data removed]",
      "text/plain": [
       "<Figure size 1080x1080 with 2 Axes>"
      ]
     },
     "metadata": {
      "needs_background": "light"
     },
     "output_type": "display_data"
    }
   ],
   "source": [
    "conf_mat = confusion_matrix(y_test, y_pred)\n",
    "fig, ax = plt.subplots(figsize=(15,15))\n",
    "sns.heatmap(conf_mat, annot=True, fmt='d', xticklabels=list(classes), yticklabels=list(classes))\n",
    "plt.ylabel('Actual')\n",
    "plt.xlabel('Predicted')\n",
    "plt.title('Confusion Matrix - LSTM')\n",
    "plt.show()"
   ]
  },
  {
   "cell_type": "code",
   "execution_count": 19,
   "id": "271fba3c",
   "metadata": {
    "execution": {
     "iopub.execute_input": "2022-01-14T15:48:12.942155Z",
     "iopub.status.busy": "2022-01-14T15:48:12.941109Z",
     "iopub.status.idle": "2022-01-14T15:48:12.945368Z",
     "shell.execute_reply": "2022-01-14T15:48:12.945947Z",
     "shell.execute_reply.started": "2022-01-14T15:37:06.182463Z"
    },
    "papermill": {
     "duration": 0.039218,
     "end_time": "2022-01-14T15:48:12.946164",
     "exception": false,
     "start_time": "2022-01-14T15:48:12.906946",
     "status": "completed"
    },
    "tags": []
   },
   "outputs": [
    {
     "data": {
      "text/plain": [
       "(111511, 44)"
      ]
     },
     "execution_count": 19,
     "metadata": {},
     "output_type": "execute_result"
    }
   ],
   "source": [
    "y_probas.shape"
   ]
  },
  {
   "cell_type": "code",
   "execution_count": 20,
   "id": "cd6c7aac",
   "metadata": {
    "execution": {
     "iopub.execute_input": "2022-01-14T15:48:13.012997Z",
     "iopub.status.busy": "2022-01-14T15:48:13.011624Z",
     "iopub.status.idle": "2022-01-14T15:48:13.015264Z",
     "shell.execute_reply": "2022-01-14T15:48:13.014552Z",
     "shell.execute_reply.started": "2022-01-14T15:35:09.875582Z"
    },
    "papermill": {
     "duration": 0.038182,
     "end_time": "2022-01-14T15:48:13.015420",
     "exception": false,
     "start_time": "2022-01-14T15:48:12.977238",
     "status": "completed"
    },
    "tags": []
   },
   "outputs": [],
   "source": [
    "# skplt.metrics.plot_precision_recall_curve(y_test, y_probas)\n",
    "# plt.title('Precision-Recall Curve - LSTM')\n",
    "# plt.show()"
   ]
  },
  {
   "cell_type": "code",
   "execution_count": 21,
   "id": "6e704dcb",
   "metadata": {
    "execution": {
     "iopub.execute_input": "2022-01-14T15:48:13.102691Z",
     "iopub.status.busy": "2022-01-14T15:48:13.101639Z",
     "iopub.status.idle": "2022-01-14T15:48:14.098238Z",
     "shell.execute_reply": "2022-01-14T15:48:14.097593Z",
     "shell.execute_reply.started": "2022-01-14T15:39:27.088167Z"
    },
    "papermill": {
     "duration": 1.055266,
     "end_time": "2022-01-14T15:48:14.098394",
     "exception": false,
     "start_time": "2022-01-14T15:48:13.043128",
     "status": "completed"
    },
    "tags": []
   },
   "outputs": [
    {
     "data": {
      "image/png": "[encoded data removed]",
      "text/plain": [
       "<IPython.core.display.Image object>"
      ]
     },
     "execution_count": 21,
     "metadata": {},
     "output_type": "execute_result"
    }
   ],
   "source": [
    "from keras.utils.vis_utils import plot_model\n",
    "plot_model(model, \"multi_input_and_output_model.png\", show_shapes=True)"
   ]
  },
  {
   "cell_type": "code",
   "execution_count": 22,
   "id": "26ac8cac",
   "metadata": {
    "execution": {
     "iopub.execute_input": "2022-01-14T15:48:14.178412Z",
     "iopub.status.busy": "2022-01-14T15:48:14.177646Z",
     "iopub.status.idle": "2022-01-14T15:48:14.184592Z",
     "shell.execute_reply": "2022-01-14T15:48:14.185165Z",
     "shell.execute_reply.started": "2022-01-14T14:59:34.538331Z"
    },
    "papermill": {
     "duration": 0.056542,
     "end_time": "2022-01-14T15:48:14.185347",
     "exception": false,
     "start_time": "2022-01-14T15:48:14.128805",
     "status": "completed"
    },
    "tags": []
   },
   "outputs": [],
   "source": [
    "import pandas as pd\n",
    "import numpy as np\n",
    "import string\n",
    "import operator\n",
    "from sklearn.model_selection import train_test_split\n",
    "from sklearn.feature_extraction.text import TfidfVectorizer\n",
    "from tensorflow.keras.layers import Input, LSTM, Embedding, Dense, Dropout\n",
    "from tensorflow.keras.models import Model,Sequential\n",
    "from tensorflow.keras.preprocessing.sequence import pad_sequences\n",
    "from tensorflow.keras.preprocessing.text import Tokenizer\n",
    "import os\n",
    "import re\n",
    "import pickle\n",
    "printable=set(string.printable)\n",
    "os.environ['TF_XLA_FLAGS'] = '--tf_xla_enable_xla_devices'\n",
    "max_length=100\n",
    "len_words=15642\n",
    "\n",
    "def decontracted(phrase):\n",
    "    phrase = re.sub(r\"won't\", \"will not\", phrase)\n",
    "    phrase = re.sub(r\"can\\'t\", \"can not\", phrase)\n",
    "    phrase = re.sub(r\"haven't\", \"will not\", phrase)\n",
    "    phrase = re.sub(r\"wasn\\'t\", \"can not\", phrase)\n",
    "    phrase = re.sub(r\"n\\'t\", \" not\", phrase)\n",
    "    phrase = re.sub(r\"\\'re\", \" are\", phrase)\n",
    "    phrase = re.sub(r\"\\'s\", \" is\", phrase)\n",
    "    phrase = re.sub(r\"\\'d\", \" would\", phrase)\n",
    "    phrase = re.sub(r\"\\'ll\", \" will\", phrase)\n",
    "    phrase = re.sub(r\"\\'t\", \" not\", phrase)\n",
    "    phrase = re.sub(r\"\\'ve\", \" have\", phrase)\n",
    "    phrase = re.sub(r\"\\'m\", \" am\", phrase)\n",
    "    return phrase\n",
    "\n",
    "def create_model():\n",
    "    global model\n",
    "    model=Sequential()\n",
    "    model.add(Embedding(len_words,100,input_length=max_length))\n",
    "    model.add(Dropout(0.2))\n",
    "    model.add(LSTM(100,dropout=0.2,recurrent_dropout=0.2))\n",
    "    model.add(Dense(30,activation='softmax'))\n",
    "    model.compile(loss='sparse_categorical_crossentropy',optimizer='adam',metrics=['accuracy'])\n",
    "\n",
    "def clean_title(title):\n",
    "    try:\n",
    "        title=title.replace(',','')\n",
    "        title = ''.join(filter(lambda x: x in printable, title))\n",
    "        title = re.sub(r\"http\\S+\", \"\", title)\n",
    "        title = re.sub(\"\\S*\\d\\S*\", \"\", title).strip()\n",
    "        title = re.sub('[^A-Za-z]+', ' ', title)\n",
    "        title = ' '.join(e.lower() for e in title.split())\n",
    "        title = decontracted(title)\n",
    "        return title.strip()\n",
    "    except:\n",
    "        return title\n",
    "\n",
    "def load_resources():\n",
    "    global tokenizer\n",
    "    global model\n",
    "    model.load_weights('../input/load-models/YTlstm.h5')\n",
    "    with open('../input/load-models/tokenizer.pickle', 'rb') as handle:\n",
    "        tokenizer = pickle.load(handle)\n",
    "\n",
    "def shape_title(title):\n",
    "    title=clean_title(title)\n",
    "    title=tokenizer.texts_to_sequences(title)\n",
    "    title=pad_sequences(title,maxlen=max_length)\n",
    "    return title\n",
    "\n",
    "def predictCategory(title):\n",
    "    title=shape_title(np.array([title]))\n",
    "    cat=model.predict(title)\n",
    "    cat=np.argmax(cat, axis=1)\n",
    "    return cat"
   ]
  },
  {
   "cell_type": "code",
   "execution_count": 23,
   "id": "270600d4",
   "metadata": {
    "execution": {
     "iopub.execute_input": "2022-01-14T15:48:14.248218Z",
     "iopub.status.busy": "2022-01-14T15:48:14.247479Z",
     "iopub.status.idle": "2022-01-14T15:48:14.878101Z",
     "shell.execute_reply": "2022-01-14T15:48:14.876959Z",
     "shell.execute_reply.started": "2022-01-14T14:59:48.182654Z"
    },
    "papermill": {
     "duration": 0.663911,
     "end_time": "2022-01-14T15:48:14.878465",
     "exception": true,
     "start_time": "2022-01-14T15:48:14.214554",
     "status": "failed"
    },
    "tags": []
   },
   "outputs": [
    {
     "ename": "OSError",
     "evalue": "Unable to open file (unable to open file: name = '../input/load-models/YTlstm.h5', errno = 2, error message = 'No such file or directory', flags = 0, o_flags = 0)",
     "output_type": "error",
     "traceback": [
      "\u001b[0;31m---------------------------------------------------------------------------\u001b[0m",
      "\u001b[0;31mOSError\u001b[0m                                   Traceback (most recent call last)",
      "\u001b[0;32m/tmp/ipykernel_19/2235167048.py\u001b[0m in \u001b[0;36m<module>\u001b[0;34m\u001b[0m\n\u001b[1;32m      1\u001b[0m \u001b[0mcreate_model\u001b[0m\u001b[0;34m(\u001b[0m\u001b[0;34m)\u001b[0m\u001b[0;34m\u001b[0m\u001b[0;34m\u001b[0m\u001b[0m\n\u001b[0;32m----> 2\u001b[0;31m \u001b[0mload_resources\u001b[0m\u001b[0;34m(\u001b[0m\u001b[0;34m)\u001b[0m\u001b[0;34m\u001b[0m\u001b[0;34m\u001b[0m\u001b[0m\n\u001b[0m",
      "\u001b[0;32m/tmp/ipykernel_19/1531606189.py\u001b[0m in \u001b[0;36mload_resources\u001b[0;34m()\u001b[0m\n\u001b[1;32m     57\u001b[0m     \u001b[0;32mglobal\u001b[0m \u001b[0mtokenizer\u001b[0m\u001b[0;34m\u001b[0m\u001b[0;34m\u001b[0m\u001b[0m\n\u001b[1;32m     58\u001b[0m     \u001b[0;32mglobal\u001b[0m \u001b[0mmodel\u001b[0m\u001b[0;34m\u001b[0m\u001b[0;34m\u001b[0m\u001b[0m\n\u001b[0;32m---> 59\u001b[0;31m     \u001b[0mmodel\u001b[0m\u001b[0;34m.\u001b[0m\u001b[0mload_weights\u001b[0m\u001b[0;34m(\u001b[0m\u001b[0;34m'../input/load-models/YTlstm.h5'\u001b[0m\u001b[0;34m)\u001b[0m\u001b[0;34m\u001b[0m\u001b[0;34m\u001b[0m\u001b[0m\n\u001b[0m\u001b[1;32m     60\u001b[0m     \u001b[0;32mwith\u001b[0m \u001b[0mopen\u001b[0m\u001b[0;34m(\u001b[0m\u001b[0;34m'../input/load-models/tokenizer.pickle'\u001b[0m\u001b[0;34m,\u001b[0m \u001b[0;34m'rb'\u001b[0m\u001b[0;34m)\u001b[0m \u001b[0;32mas\u001b[0m \u001b[0mhandle\u001b[0m\u001b[0;34m:\u001b[0m\u001b[0;34m\u001b[0m\u001b[0;34m\u001b[0m\u001b[0m\n\u001b[1;32m     61\u001b[0m         \u001b[0mtokenizer\u001b[0m \u001b[0;34m=\u001b[0m \u001b[0mpickle\u001b[0m\u001b[0;34m.\u001b[0m\u001b[0mload\u001b[0m\u001b[0;34m(\u001b[0m\u001b[0mhandle\u001b[0m\u001b[0;34m)\u001b[0m\u001b[0;34m\u001b[0m\u001b[0;34m\u001b[0m\u001b[0m\n",
      "\u001b[0;32m/opt/conda/lib/python3.7/site-packages/keras/engine/training.py\u001b[0m in \u001b[0;36mload_weights\u001b[0;34m(self, filepath, by_name, skip_mismatch, options)\u001b[0m\n\u001b[1;32m   2352\u001b[0m             'first, then load the weights.')\n\u001b[1;32m   2353\u001b[0m       \u001b[0mself\u001b[0m\u001b[0;34m.\u001b[0m\u001b[0m_assert_weights_created\u001b[0m\u001b[0;34m(\u001b[0m\u001b[0;34m)\u001b[0m\u001b[0;34m\u001b[0m\u001b[0;34m\u001b[0m\u001b[0m\n\u001b[0;32m-> 2354\u001b[0;31m       \u001b[0;32mwith\u001b[0m \u001b[0mh5py\u001b[0m\u001b[0;34m.\u001b[0m\u001b[0mFile\u001b[0m\u001b[0;34m(\u001b[0m\u001b[0mfilepath\u001b[0m\u001b[0;34m,\u001b[0m \u001b[0;34m'r'\u001b[0m\u001b[0;34m)\u001b[0m \u001b[0;32mas\u001b[0m \u001b[0mf\u001b[0m\u001b[0;34m:\u001b[0m\u001b[0;34m\u001b[0m\u001b[0;34m\u001b[0m\u001b[0m\n\u001b[0m\u001b[1;32m   2355\u001b[0m         \u001b[0;32mif\u001b[0m \u001b[0;34m'layer_names'\u001b[0m \u001b[0;32mnot\u001b[0m \u001b[0;32min\u001b[0m \u001b[0mf\u001b[0m\u001b[0;34m.\u001b[0m\u001b[0mattrs\u001b[0m \u001b[0;32mand\u001b[0m \u001b[0;34m'model_weights'\u001b[0m \u001b[0;32min\u001b[0m \u001b[0mf\u001b[0m\u001b[0;34m:\u001b[0m\u001b[0;34m\u001b[0m\u001b[0;34m\u001b[0m\u001b[0m\n\u001b[1;32m   2356\u001b[0m           \u001b[0mf\u001b[0m \u001b[0;34m=\u001b[0m \u001b[0mf\u001b[0m\u001b[0;34m[\u001b[0m\u001b[0;34m'model_weights'\u001b[0m\u001b[0;34m]\u001b[0m\u001b[0;34m\u001b[0m\u001b[0;34m\u001b[0m\u001b[0m\n",
      "\u001b[0;32m/opt/conda/lib/python3.7/site-packages/h5py/_hl/files.py\u001b[0m in \u001b[0;36m__init__\u001b[0;34m(self, name, mode, driver, libver, userblock_size, swmr, rdcc_nslots, rdcc_nbytes, rdcc_w0, track_order, fs_strategy, fs_persist, fs_threshold, **kwds)\u001b[0m\n\u001b[1;32m    425\u001b[0m                                fapl, fcpl=make_fcpl(track_order=track_order, fs_strategy=fs_strategy,\n\u001b[1;32m    426\u001b[0m                                fs_persist=fs_persist, fs_threshold=fs_threshold),\n\u001b[0;32m--> 427\u001b[0;31m                                swmr=swmr)\n\u001b[0m\u001b[1;32m    428\u001b[0m \u001b[0;34m\u001b[0m\u001b[0m\n\u001b[1;32m    429\u001b[0m             \u001b[0;32mif\u001b[0m \u001b[0misinstance\u001b[0m\u001b[0;34m(\u001b[0m\u001b[0mlibver\u001b[0m\u001b[0;34m,\u001b[0m \u001b[0mtuple\u001b[0m\u001b[0;34m)\u001b[0m\u001b[0;34m:\u001b[0m\u001b[0;34m\u001b[0m\u001b[0;34m\u001b[0m\u001b[0m\n",
      "\u001b[0;32m/opt/conda/lib/python3.7/site-packages/h5py/_hl/files.py\u001b[0m in \u001b[0;36mmake_fid\u001b[0;34m(name, mode, userblock_size, fapl, fcpl, swmr)\u001b[0m\n\u001b[1;32m    188\u001b[0m         \u001b[0;32mif\u001b[0m \u001b[0mswmr\u001b[0m \u001b[0;32mand\u001b[0m \u001b[0mswmr_support\u001b[0m\u001b[0;34m:\u001b[0m\u001b[0;34m\u001b[0m\u001b[0;34m\u001b[0m\u001b[0m\n\u001b[1;32m    189\u001b[0m             \u001b[0mflags\u001b[0m \u001b[0;34m|=\u001b[0m \u001b[0mh5f\u001b[0m\u001b[0;34m.\u001b[0m\u001b[0mACC_SWMR_READ\u001b[0m\u001b[0;34m\u001b[0m\u001b[0;34m\u001b[0m\u001b[0m\n\u001b[0;32m--> 190\u001b[0;31m         \u001b[0mfid\u001b[0m \u001b[0;34m=\u001b[0m \u001b[0mh5f\u001b[0m\u001b[0;34m.\u001b[0m\u001b[0mopen\u001b[0m\u001b[0;34m(\u001b[0m\u001b[0mname\u001b[0m\u001b[0;34m,\u001b[0m \u001b[0mflags\u001b[0m\u001b[0;34m,\u001b[0m \u001b[0mfapl\u001b[0m\u001b[0;34m=\u001b[0m\u001b[0mfapl\u001b[0m\u001b[0;34m)\u001b[0m\u001b[0;34m\u001b[0m\u001b[0;34m\u001b[0m\u001b[0m\n\u001b[0m\u001b[1;32m    191\u001b[0m     \u001b[0;32melif\u001b[0m \u001b[0mmode\u001b[0m \u001b[0;34m==\u001b[0m \u001b[0;34m'r+'\u001b[0m\u001b[0;34m:\u001b[0m\u001b[0;34m\u001b[0m\u001b[0;34m\u001b[0m\u001b[0m\n\u001b[1;32m    192\u001b[0m         \u001b[0mfid\u001b[0m \u001b[0;34m=\u001b[0m \u001b[0mh5f\u001b[0m\u001b[0;34m.\u001b[0m\u001b[0mopen\u001b[0m\u001b[0;34m(\u001b[0m\u001b[0mname\u001b[0m\u001b[0;34m,\u001b[0m \u001b[0mh5f\u001b[0m\u001b[0;34m.\u001b[0m\u001b[0mACC_RDWR\u001b[0m\u001b[0;34m,\u001b[0m \u001b[0mfapl\u001b[0m\u001b[0;34m=\u001b[0m\u001b[0mfapl\u001b[0m\u001b[0;34m)\u001b[0m\u001b[0;34m\u001b[0m\u001b[0;34m\u001b[0m\u001b[0m\n",
      "\u001b[0;32mh5py/_objects.pyx\u001b[0m in \u001b[0;36mh5py._objects.with_phil.wrapper\u001b[0;34m()\u001b[0m\n",
      "\u001b[0;32mh5py/_objects.pyx\u001b[0m in \u001b[0;36mh5py._objects.with_phil.wrapper\u001b[0;34m()\u001b[0m\n",
      "\u001b[0;32mh5py/h5f.pyx\u001b[0m in \u001b[0;36mh5py.h5f.open\u001b[0;34m()\u001b[0m\n",
      "\u001b[0;31mOSError\u001b[0m: Unable to open file (unable to open file: name = '../input/load-models/YTlstm.h5', errno = 2, error message = 'No such file or directory', flags = 0, o_flags = 0)"
     ]
    }
   ],
   "source": [
    "create_model()\n",
    "load_resources()\n"
   ]
  },
  {
   "cell_type": "code",
   "execution_count": null,
   "id": "1bdbf019",
   "metadata": {
    "execution": {
     "iopub.status.busy": "2022-01-14T14:59:34.839208Z",
     "iopub.status.idle": "2022-01-14T14:59:34.839905Z",
     "shell.execute_reply": "2022-01-14T14:59:34.839561Z",
     "shell.execute_reply.started": "2022-01-14T14:59:34.839531Z"
    },
    "papermill": {
     "duration": null,
     "end_time": null,
     "exception": null,
     "start_time": null,
     "status": "pending"
    },
    "tags": []
   },
   "outputs": [],
   "source": [
    "# s=input(\"enter title: \")\n",
    "# cat=predictCategory(s)\n",
    "# print(cat)"
   ]
  }
 ],
 "metadata": {
  "kernelspec": {
   "display_name": "Python 3",
   "language": "python",
   "name": "python3"
  },
  "language_info": {
   "codemirror_mode": {
    "name": "ipython",
    "version": 3
   },
   "file_extension": ".py",
   "mimetype": "text/x-python",
   "name": "python",
   "nbconvert_exporter": "python",
   "pygments_lexer": "ipython3",
   "version": "3.7.12"
  },
  "papermill": {
   "default_parameters": {},
   "duration": 488.009965,
   "end_time": "2022-01-14T15:48:17.970992",
   "environment_variables": {},
   "exception": true,
   "input_path": "__notebook__.ipynb",
   "output_path": "__notebook__.ipynb",
   "parameters": {},
   "start_time": "2022-01-14T15:40:09.961027",
   "version": "2.3.3"
  }
 },
 "nbformat": 4,
 "nbformat_minor": 5
}
