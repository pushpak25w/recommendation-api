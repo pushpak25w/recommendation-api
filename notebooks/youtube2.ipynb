{
 "cells": [
  {
   "cell_type": "code",
   "execution_count": 1,
   "id": "8cb2c359",
   "metadata": {
    "_cell_guid": "b1076dfc-b9ad-4769-8c92-a6c4dae69d19",
    "_uuid": "8f2839f25d086af736a60e9eeb907d3b93b6e0e5",
    "execution": {
     "iopub.execute_input": "2022-01-04T16:25:46.390461Z",
     "iopub.status.busy": "2022-01-04T16:25:46.382075Z",
     "iopub.status.idle": "2022-01-04T16:25:51.895097Z",
     "shell.execute_reply": "2022-01-04T16:25:51.894501Z",
     "shell.execute_reply.started": "2022-01-03T16:37:45.578134Z"
    },
    "papermill": {
     "duration": 5.549228,
     "end_time": "2022-01-04T16:25:51.895257",
     "exception": false,
     "start_time": "2022-01-04T16:25:46.346029",
     "status": "completed"
    },
    "tags": []
   },
   "outputs": [],
   "source": [
    "import pandas as pd\n",
    "import numpy as np\n",
    "import matplotlib.pyplot as plt\n",
    "from bs4 import BeautifulSoup\n",
    "import string\n",
    "import operator\n",
    "from numpy import nan\n",
    "import tensorflow as tf\n",
    "from sklearn.model_selection import train_test_split\n",
    "from sklearn.feature_extraction.text import TfidfVectorizer\n",
    "from tensorflow.keras.layers import Input, LSTM, Embedding, Dense, Dropout\n",
    "from tensorflow.keras.models import Model,Sequential\n",
    "from tensorflow.keras.preprocessing.sequence import pad_sequences\n",
    "from tensorflow.keras.preprocessing.text import Tokenizer\n",
    "import os\n",
    "import pickle\n",
    "os.environ['TF_XLA_FLAGS'] = '--tf_xla_enable_xla_devices'"
   ]
  },
  {
   "cell_type": "code",
   "execution_count": 2,
   "id": "604ba7d7",
   "metadata": {
    "execution": {
     "iopub.execute_input": "2022-01-04T16:25:51.934733Z",
     "iopub.status.busy": "2022-01-04T16:25:51.933912Z",
     "iopub.status.idle": "2022-01-04T16:25:52.209223Z",
     "shell.execute_reply": "2022-01-04T16:25:52.208321Z",
     "shell.execute_reply.started": "2022-01-03T16:37:45.810341Z"
    },
    "papermill": {
     "duration": 0.295574,
     "end_time": "2022-01-04T16:25:52.209389",
     "exception": false,
     "start_time": "2022-01-04T16:25:51.913815",
     "status": "completed"
    },
    "tags": []
   },
   "outputs": [],
   "source": [
    "data=pd.read_csv('../input/youtube-video-titles/YT.csv')"
   ]
  },
  {
   "cell_type": "code",
   "execution_count": 3,
   "id": "bf2b10e2",
   "metadata": {
    "execution": {
     "iopub.execute_input": "2022-01-04T16:25:52.257130Z",
     "iopub.status.busy": "2022-01-04T16:25:52.247477Z",
     "iopub.status.idle": "2022-01-04T16:25:52.275011Z",
     "shell.execute_reply": "2022-01-04T16:25:52.275483Z",
     "shell.execute_reply.started": "2022-01-03T16:37:46.088938Z"
    },
    "papermill": {
     "duration": 0.048299,
     "end_time": "2022-01-04T16:25:52.275620",
     "exception": false,
     "start_time": "2022-01-04T16:25:52.227321",
     "status": "completed"
    },
    "tags": []
   },
   "outputs": [
    {
     "name": "stdout",
     "output_type": "stream",
     "text": [
      "(111511, 3)\n"
     ]
    },
    {
     "data": {
      "text/html": [
       "<div>\n",
       "<style scoped>\n",
       "    .dataframe tbody tr th:only-of-type {\n",
       "        vertical-align: middle;\n",
       "    }\n",
       "\n",
       "    .dataframe tbody tr th {\n",
       "        vertical-align: top;\n",
       "    }\n",
       "\n",
       "    .dataframe thead th {\n",
       "        text-align: right;\n",
       "    }\n",
       "</style>\n",
       "<table border=\"1\" class=\"dataframe\">\n",
       "  <thead>\n",
       "    <tr style=\"text-align: right;\">\n",
       "      <th></th>\n",
       "      <th>title</th>\n",
       "      <th>video_id</th>\n",
       "      <th>categoryId</th>\n",
       "    </tr>\n",
       "  </thead>\n",
       "  <tbody>\n",
       "    <tr>\n",
       "      <th>0</th>\n",
       "      <td>i asked her to be my girlfriend</td>\n",
       "      <td>3C66w5Z0ixs</td>\n",
       "      <td>22</td>\n",
       "    </tr>\n",
       "    <tr>\n",
       "      <th>1</th>\n",
       "      <td>apex legends stories from the outlands the end...</td>\n",
       "      <td>M9Pmf9AB4Mo</td>\n",
       "      <td>20</td>\n",
       "    </tr>\n",
       "    <tr>\n",
       "      <th>2</th>\n",
       "      <td>i left youtube for a month and this is what ha...</td>\n",
       "      <td>J78aPJ3VyNs</td>\n",
       "      <td>24</td>\n",
       "    </tr>\n",
       "    <tr>\n",
       "      <th>3</th>\n",
       "      <td>xxl freshman class revealed official announcement</td>\n",
       "      <td>kXLn3HkpjaA</td>\n",
       "      <td>10</td>\n",
       "    </tr>\n",
       "    <tr>\n",
       "      <th>4</th>\n",
       "      <td>ultimate diy home movie theater for the labran...</td>\n",
       "      <td>VIUo6yapDbc</td>\n",
       "      <td>26</td>\n",
       "    </tr>\n",
       "  </tbody>\n",
       "</table>\n",
       "</div>"
      ],
      "text/plain": [
       "                                               title     video_id  categoryId\n",
       "0                    i asked her to be my girlfriend  3C66w5Z0ixs          22\n",
       "1  apex legends stories from the outlands the end...  M9Pmf9AB4Mo          20\n",
       "2  i left youtube for a month and this is what ha...  J78aPJ3VyNs          24\n",
       "3  xxl freshman class revealed official announcement  kXLn3HkpjaA          10\n",
       "4  ultimate diy home movie theater for the labran...  VIUo6yapDbc          26"
      ]
     },
     "execution_count": 3,
     "metadata": {},
     "output_type": "execute_result"
    }
   ],
   "source": [
    "data=data[['title','video_id','categoryId']]\n",
    "print(data.shape)\n",
    "data.head()\n"
   ]
  },
  {
   "cell_type": "code",
   "execution_count": 4,
   "id": "baf02ffe",
   "metadata": {
    "execution": {
     "iopub.execute_input": "2022-01-04T16:25:52.334034Z",
     "iopub.status.busy": "2022-01-04T16:25:52.328846Z",
     "iopub.status.idle": "2022-01-04T16:25:52.729400Z",
     "shell.execute_reply": "2022-01-04T16:25:52.728443Z",
     "shell.execute_reply.started": "2022-01-03T16:37:46.36035Z"
    },
    "papermill": {
     "duration": 0.435449,
     "end_time": "2022-01-04T16:25:52.729552",
     "exception": false,
     "start_time": "2022-01-04T16:25:52.294103",
     "status": "completed"
    },
    "tags": []
   },
   "outputs": [],
   "source": [
    "title=data['title']\n",
    "titles=[]\n",
    "words=set()\n",
    "count=0\n",
    "max_length=0\n",
    "s=''\n",
    "for i,l in enumerate(title):\n",
    "    max_length=max(max_length,len(l))\n",
    "    if type(l)!=str:\n",
    "        title[i]='x'\n",
    "    for word in l.split():\n",
    "        titles.append(word)\n",
    "        if word not in words:\n",
    "            words.add(word)\n",
    "words=list(words)"
   ]
  },
  {
   "cell_type": "code",
   "execution_count": 5,
   "id": "9bea56d5",
   "metadata": {
    "execution": {
     "iopub.execute_input": "2022-01-04T16:25:52.771434Z",
     "iopub.status.busy": "2022-01-04T16:25:52.770720Z",
     "iopub.status.idle": "2022-01-04T16:25:52.774118Z",
     "shell.execute_reply": "2022-01-04T16:25:52.773647Z",
     "shell.execute_reply.started": "2022-01-03T16:37:46.781211Z"
    },
    "papermill": {
     "duration": 0.026104,
     "end_time": "2022-01-04T16:25:52.774232",
     "exception": false,
     "start_time": "2022-01-04T16:25:52.748128",
     "status": "completed"
    },
    "tags": []
   },
   "outputs": [
    {
     "name": "stdout",
     "output_type": "stream",
     "text": [
      "total number of uniq words in dataset are  60431\n",
      "total words in words in the dataset are  916749\n",
      "maximum length of title is   100\n"
     ]
    }
   ],
   "source": [
    "print(\"total number of uniq words in dataset are \",len(words))\n",
    "print(\"total words in words in the dataset are \",len(titles))\n",
    "print(\"maximum length of title is  \",max_length)"
   ]
  },
  {
   "cell_type": "code",
   "execution_count": 6,
   "id": "3edd210c",
   "metadata": {
    "execution": {
     "iopub.execute_input": "2022-01-04T16:25:52.819639Z",
     "iopub.status.busy": "2022-01-04T16:25:52.818920Z",
     "iopub.status.idle": "2022-01-04T16:25:52.821764Z",
     "shell.execute_reply": "2022-01-04T16:25:52.822128Z",
     "shell.execute_reply.started": "2022-01-03T16:37:46.942251Z"
    },
    "papermill": {
     "duration": 0.029267,
     "end_time": "2022-01-04T16:25:52.822247",
     "exception": false,
     "start_time": "2022-01-04T16:25:52.792980",
     "status": "completed"
    },
    "tags": []
   },
   "outputs": [
    {
     "data": {
      "text/plain": [
       "24    35021\n",
       "10    12702\n",
       "22    10168\n",
       "17     9728\n",
       "25     7440\n",
       "23     6792\n",
       "20     6574\n",
       "27     5705\n",
       "26     5630\n",
       "28     4825\n",
       "1      3098\n",
       "19     1872\n",
       "2      1159\n",
       "15      487\n",
       "29      164\n",
       "43      144\n",
       "30        2\n",
       "Name: categoryId, dtype: int64"
      ]
     },
     "execution_count": 6,
     "metadata": {},
     "output_type": "execute_result"
    }
   ],
   "source": [
    "data['categoryId'].value_counts()"
   ]
  },
  {
   "cell_type": "code",
   "execution_count": 7,
   "id": "21382271",
   "metadata": {
    "execution": {
     "iopub.execute_input": "2022-01-04T16:25:52.865016Z",
     "iopub.status.busy": "2022-01-04T16:25:52.864504Z",
     "iopub.status.idle": "2022-01-04T16:25:52.898409Z",
     "shell.execute_reply": "2022-01-04T16:25:52.898863Z",
     "shell.execute_reply.started": "2022-01-03T16:37:47.319574Z"
    },
    "papermill": {
     "duration": 0.057546,
     "end_time": "2022-01-04T16:25:52.898990",
     "exception": false,
     "start_time": "2022-01-04T16:25:52.841444",
     "status": "completed"
    },
    "tags": []
   },
   "outputs": [
    {
     "name": "stdout",
     "output_type": "stream",
     "text": [
      "100359 11152 100359 11152\n"
     ]
    }
   ],
   "source": [
    "x_train,x_test,y_train,y_test=train_test_split(data['title'],data['categoryId'],test_size=.1)\n",
    "print(len(x_train),len(x_test),len(y_train),len(y_test))"
   ]
  },
  {
   "cell_type": "code",
   "execution_count": 8,
   "id": "44db051e",
   "metadata": {
    "execution": {
     "iopub.execute_input": "2022-01-04T16:25:52.975363Z",
     "iopub.status.busy": "2022-01-04T16:25:52.970110Z",
     "iopub.status.idle": "2022-01-04T16:25:54.987267Z",
     "shell.execute_reply": "2022-01-04T16:25:54.986327Z",
     "shell.execute_reply.started": "2022-01-03T16:37:47.650106Z"
    },
    "papermill": {
     "duration": 2.069488,
     "end_time": "2022-01-04T16:25:54.987527",
     "exception": false,
     "start_time": "2022-01-04T16:25:52.918039",
     "status": "completed"
    },
    "tags": []
   },
   "outputs": [],
   "source": [
    "tokenizer=Tokenizer(\n",
    "    num_words=len(words),\n",
    "    filters='!\"#$%&()*+,-./:;<=>?@[\\\\]^_`{|}~\\t\\n',\n",
    "    lower=True, split=' ', char_level=False,\n",
    "    document_count=0,\n",
    ")\n",
    "\n",
    "tokenizer.fit_on_texts(data['title'])\n",
    "wordIndex=tokenizer.word_index"
   ]
  },
  {
   "cell_type": "code",
   "execution_count": 9,
   "id": "35c219b5",
   "metadata": {
    "execution": {
     "iopub.execute_input": "2022-01-04T16:25:55.036773Z",
     "iopub.status.busy": "2022-01-04T16:25:55.034546Z",
     "iopub.status.idle": "2022-01-04T16:25:55.093109Z",
     "shell.execute_reply": "2022-01-04T16:25:55.092658Z",
     "shell.execute_reply.started": "2022-01-03T16:37:49.571618Z"
    },
    "papermill": {
     "duration": 0.084359,
     "end_time": "2022-01-04T16:25:55.093224",
     "exception": false,
     "start_time": "2022-01-04T16:25:55.008865",
     "status": "completed"
    },
    "tags": []
   },
   "outputs": [],
   "source": [
    "import pickle\n",
    "with open('tokenizer.pickle', 'wb') as handle:\n",
    "    pickle.dump(tokenizer, handle, protocol=pickle.HIGHEST_PROTOCOL)"
   ]
  },
  {
   "cell_type": "code",
   "execution_count": 10,
   "id": "ac3e6f58",
   "metadata": {
    "execution": {
     "iopub.execute_input": "2022-01-04T16:25:55.138429Z",
     "iopub.status.busy": "2022-01-04T16:25:55.136813Z",
     "iopub.status.idle": "2022-01-04T16:25:55.140357Z",
     "shell.execute_reply": "2022-01-04T16:25:55.139890Z",
     "shell.execute_reply.started": "2022-01-03T16:37:49.642651Z"
    },
    "papermill": {
     "duration": 0.027681,
     "end_time": "2022-01-04T16:25:55.140468",
     "exception": false,
     "start_time": "2022-01-04T16:25:55.112787",
     "status": "completed"
    },
    "tags": []
   },
   "outputs": [
    {
     "name": "stdout",
     "output_type": "stream",
     "text": [
      "1\n",
      "9\n"
     ]
    }
   ],
   "source": [
    "print(wordIndex['the'])\n",
    "print(wordIndex['official'])"
   ]
  },
  {
   "cell_type": "code",
   "execution_count": 11,
   "id": "49434d37",
   "metadata": {
    "execution": {
     "iopub.execute_input": "2022-01-04T16:25:55.209361Z",
     "iopub.status.busy": "2022-01-04T16:25:55.205116Z",
     "iopub.status.idle": "2022-01-04T16:25:56.539625Z",
     "shell.execute_reply": "2022-01-04T16:25:56.540278Z",
     "shell.execute_reply.started": "2022-01-03T16:37:49.977564Z"
    },
    "papermill": {
     "duration": 1.378864,
     "end_time": "2022-01-04T16:25:56.540504",
     "exception": false,
     "start_time": "2022-01-04T16:25:55.161640",
     "status": "completed"
    },
    "tags": []
   },
   "outputs": [
    {
     "name": "stdout",
     "output_type": "stream",
     "text": [
      "[[1307, 1989, 4335, 2798, 105, 70, 12, 725, 2299, 850], [302, 117, 1, 10410], [16, 22, 5366, 3, 503, 93, 90, 44, 99, 101, 68], [1778, 89, 17, 6, 150, 58], [3832, 3553, 712, 3748], [1709, 59496, 10, 1025, 1962, 1510, 32055], [929, 1211, 1, 135, 1785, 11167, 3, 126], [1990, 1991, 2433, 1533, 3132, 4], [125, 23, 703, 2, 376, 635, 2759, 164, 11443], [1, 8020, 7786, 160, 27, 1581, 1876, 7, 794, 2107]]\n"
     ]
    }
   ],
   "source": [
    "x_train=tokenizer.texts_to_sequences(x_train)\n",
    "print(x_train[:10])"
   ]
  },
  {
   "cell_type": "code",
   "execution_count": 12,
   "id": "f8319336",
   "metadata": {
    "execution": {
     "iopub.execute_input": "2022-01-04T16:25:56.594419Z",
     "iopub.status.busy": "2022-01-04T16:25:56.593125Z",
     "iopub.status.idle": "2022-01-04T16:25:57.246320Z",
     "shell.execute_reply": "2022-01-04T16:25:57.245482Z",
     "shell.execute_reply.started": "2022-01-03T16:37:51.437149Z"
    },
    "papermill": {
     "duration": 0.68057,
     "end_time": "2022-01-04T16:25:57.246449",
     "exception": false,
     "start_time": "2022-01-04T16:25:56.565879",
     "status": "completed"
    },
    "tags": []
   },
   "outputs": [
    {
     "name": "stdout",
     "output_type": "stream",
     "text": [
      "[[    0     0     0     0     0     0     0     0     0     0     0     0\n",
      "      0     0     0     0     0     0     0     0     0     0     0     0\n",
      "      0     0     0     0     0     0     0     0     0     0     0     0\n",
      "      0     0     0     0     0     0     0     0     0     0     0     0\n",
      "      0     0     0     0     0     0     0     0     0     0     0     0\n",
      "      0     0     0     0     0     0     0     0     0     0     0     0\n",
      "      0     0     0     0     0     0     0     0     0     0     0     0\n",
      "      0     0     0     0     0     0  1307  1989  4335  2798   105    70\n",
      "     12   725  2299   850]\n",
      " [    0     0     0     0     0     0     0     0     0     0     0     0\n",
      "      0     0     0     0     0     0     0     0     0     0     0     0\n",
      "      0     0     0     0     0     0     0     0     0     0     0     0\n",
      "      0     0     0     0     0     0     0     0     0     0     0     0\n",
      "      0     0     0     0     0     0     0     0     0     0     0     0\n",
      "      0     0     0     0     0     0     0     0     0     0     0     0\n",
      "      0     0     0     0     0     0     0     0     0     0     0     0\n",
      "      0     0     0     0     0     0     0     0     0     0     0     0\n",
      "    302   117     1 10410]]\n"
     ]
    }
   ],
   "source": [
    "x_train=pad_sequences(x_train,maxlen=max_length)\n",
    "print(x_train[:2])"
   ]
  },
  {
   "cell_type": "code",
   "execution_count": 13,
   "id": "6338f759",
   "metadata": {
    "execution": {
     "iopub.execute_input": "2022-01-04T16:25:57.296889Z",
     "iopub.status.busy": "2022-01-04T16:25:57.296141Z",
     "iopub.status.idle": "2022-01-04T16:25:57.429866Z",
     "shell.execute_reply": "2022-01-04T16:25:57.429423Z",
     "shell.execute_reply.started": "2022-01-03T16:37:51.895928Z"
    },
    "papermill": {
     "duration": 0.162961,
     "end_time": "2022-01-04T16:25:57.429981",
     "exception": false,
     "start_time": "2022-01-04T16:25:57.267020",
     "status": "completed"
    },
    "tags": []
   },
   "outputs": [
    {
     "name": "stdout",
     "output_type": "stream",
     "text": [
      "[[1516, 29529, 3772, 1641, 3124, 110, 13002, 3690, 5608, 70], [27750, 2167, 3307, 511], [1, 8655, 17882, 5725, 3369, 4658, 780], [1565, 5, 4239, 1351, 140, 12, 4239, 1351, 6792], [973, 82, 6013, 286, 59, 261, 20496, 10584, 72, 321, 479, 33], [21806, 21807, 21808, 6, 1217], [11710, 15, 6605, 60, 1520, 2682, 52, 724, 1298, 11712, 6605, 1776, 370, 895, 316, 235], [393, 6728, 44415, 2296, 42, 8, 2296], [186, 336, 15123, 6755, 2009, 48], [406, 154, 571, 629, 122, 35, 86, 25]]\n"
     ]
    }
   ],
   "source": [
    "x_test=tokenizer.texts_to_sequences(x_test)\n",
    "print(x_test[:10])"
   ]
  },
  {
   "cell_type": "code",
   "execution_count": 14,
   "id": "cab3b4e7",
   "metadata": {
    "execution": {
     "iopub.execute_input": "2022-01-04T16:25:57.474345Z",
     "iopub.status.busy": "2022-01-04T16:25:57.473486Z",
     "iopub.status.idle": "2022-01-04T16:25:57.550669Z",
     "shell.execute_reply": "2022-01-04T16:25:57.550170Z",
     "shell.execute_reply.started": "2022-01-03T16:37:52.038445Z"
    },
    "papermill": {
     "duration": 0.100125,
     "end_time": "2022-01-04T16:25:57.550783",
     "exception": false,
     "start_time": "2022-01-04T16:25:57.450658",
     "status": "completed"
    },
    "tags": []
   },
   "outputs": [
    {
     "name": "stdout",
     "output_type": "stream",
     "text": [
      "[[    0     0     0     0     0     0     0     0     0     0     0     0\n",
      "      0     0     0     0     0     0     0     0     0     0     0     0\n",
      "      0     0     0     0     0     0     0     0     0     0     0     0\n",
      "      0     0     0     0     0     0     0     0     0     0     0     0\n",
      "      0     0     0     0     0     0     0     0     0     0     0     0\n",
      "      0     0     0     0     0     0     0     0     0     0     0     0\n",
      "      0     0     0     0     0     0     0     0     0     0     0     0\n",
      "      0     0     0     0     0     0  1516 29529  3772  1641  3124   110\n",
      "  13002  3690  5608    70]\n",
      " [    0     0     0     0     0     0     0     0     0     0     0     0\n",
      "      0     0     0     0     0     0     0     0     0     0     0     0\n",
      "      0     0     0     0     0     0     0     0     0     0     0     0\n",
      "      0     0     0     0     0     0     0     0     0     0     0     0\n",
      "      0     0     0     0     0     0     0     0     0     0     0     0\n",
      "      0     0     0     0     0     0     0     0     0     0     0     0\n",
      "      0     0     0     0     0     0     0     0     0     0     0     0\n",
      "      0     0     0     0     0     0     0     0     0     0     0     0\n",
      "  27750  2167  3307   511]]\n"
     ]
    }
   ],
   "source": [
    "x_test=pad_sequences(x_test,maxlen=max_length)\n",
    "print(x_test[:2])"
   ]
  },
  {
   "cell_type": "code",
   "execution_count": 15,
   "id": "d3b4d007",
   "metadata": {
    "execution": {
     "iopub.execute_input": "2022-01-04T16:25:57.597866Z",
     "iopub.status.busy": "2022-01-04T16:25:57.597368Z",
     "iopub.status.idle": "2022-01-04T16:26:00.249350Z",
     "shell.execute_reply": "2022-01-04T16:26:00.249783Z",
     "shell.execute_reply.started": "2022-01-03T16:40:11.681508Z"
    },
    "papermill": {
     "duration": 2.678364,
     "end_time": "2022-01-04T16:26:00.249950",
     "exception": false,
     "start_time": "2022-01-04T16:25:57.571586",
     "status": "completed"
    },
    "tags": []
   },
   "outputs": [
    {
     "name": "stderr",
     "output_type": "stream",
     "text": [
      "2022-01-04 16:25:57.666712: I tensorflow/stream_executor/cuda/cuda_gpu_executor.cc:937] successful NUMA node read from SysFS had negative value (-1), but there must be at least one NUMA node, so returning NUMA node zero\n",
      "2022-01-04 16:25:57.765173: I tensorflow/stream_executor/cuda/cuda_gpu_executor.cc:937] successful NUMA node read from SysFS had negative value (-1), but there must be at least one NUMA node, so returning NUMA node zero\n",
      "2022-01-04 16:25:57.765930: I tensorflow/stream_executor/cuda/cuda_gpu_executor.cc:937] successful NUMA node read from SysFS had negative value (-1), but there must be at least one NUMA node, so returning NUMA node zero\n",
      "2022-01-04 16:25:57.767353: I tensorflow/core/platform/cpu_feature_guard.cc:142] This TensorFlow binary is optimized with oneAPI Deep Neural Network Library (oneDNN) to use the following CPU instructions in performance-critical operations:  AVX2 AVX512F FMA\n",
      "To enable them in other operations, rebuild TensorFlow with the appropriate compiler flags.\n",
      "2022-01-04 16:25:57.791749: I tensorflow/compiler/xla/service/service.cc:171] XLA service 0x5608c435f5e0 initialized for platform Host (this does not guarantee that XLA will be used). Devices:\n",
      "2022-01-04 16:25:57.791773: I tensorflow/compiler/xla/service/service.cc:179]   StreamExecutor device (0): Host, Default Version\n",
      "2022-01-04 16:25:57.914992: I tensorflow/stream_executor/cuda/cuda_gpu_executor.cc:937] successful NUMA node read from SysFS had negative value (-1), but there must be at least one NUMA node, so returning NUMA node zero\n",
      "2022-01-04 16:25:57.915790: I tensorflow/compiler/xla/service/service.cc:171] XLA service 0x5608c10fc6f0 initialized for platform CUDA (this does not guarantee that XLA will be used). Devices:\n",
      "2022-01-04 16:25:57.915815: I tensorflow/compiler/xla/service/service.cc:179]   StreamExecutor device (0): Tesla P100-PCIE-16GB, Compute Capability 6.0\n",
      "2022-01-04 16:25:57.918844: I tensorflow/stream_executor/cuda/cuda_gpu_executor.cc:937] successful NUMA node read from SysFS had negative value (-1), but there must be at least one NUMA node, so returning NUMA node zero\n",
      "2022-01-04 16:25:57.919604: I tensorflow/stream_executor/cuda/cuda_gpu_executor.cc:937] successful NUMA node read from SysFS had negative value (-1), but there must be at least one NUMA node, so returning NUMA node zero\n",
      "2022-01-04 16:25:57.920316: I tensorflow/stream_executor/cuda/cuda_gpu_executor.cc:937] successful NUMA node read from SysFS had negative value (-1), but there must be at least one NUMA node, so returning NUMA node zero\n",
      "2022-01-04 16:25:59.692233: I tensorflow/stream_executor/cuda/cuda_gpu_executor.cc:937] successful NUMA node read from SysFS had negative value (-1), but there must be at least one NUMA node, so returning NUMA node zero\n",
      "2022-01-04 16:25:59.693545: I tensorflow/stream_executor/cuda/cuda_gpu_executor.cc:937] successful NUMA node read from SysFS had negative value (-1), but there must be at least one NUMA node, so returning NUMA node zero\n",
      "2022-01-04 16:25:59.694677: I tensorflow/core/common_runtime/gpu/gpu_device.cc:1510] Created device /job:localhost/replica:0/task:0/device:GPU:0 with 15403 MB memory:  -> device: 0, name: Tesla P100-PCIE-16GB, pci bus id: 0000:00:04.0, compute capability: 6.0\n"
     ]
    },
    {
     "name": "stdout",
     "output_type": "stream",
     "text": [
      "Model: \"sequential\"\n",
      "_________________________________________________________________\n",
      "Layer (type)                 Output Shape              Param #   \n",
      "=================================================================\n",
      "embedding (Embedding)        (None, 100, 100)          6043100   \n",
      "_________________________________________________________________\n",
      "dropout (Dropout)            (None, 100, 100)          0         \n",
      "_________________________________________________________________\n",
      "lstm (LSTM)                  (None, 100)               80400     \n",
      "_________________________________________________________________\n",
      "dense (Dense)                (None, 44)                4444      \n",
      "=================================================================\n",
      "Total params: 6,127,944\n",
      "Trainable params: 6,127,944\n",
      "Non-trainable params: 0\n",
      "_________________________________________________________________\n"
     ]
    }
   ],
   "source": [
    "model=Sequential()\n",
    "model.add(Embedding(len(words),100,input_length=max_length))\n",
    "model.add(Dropout(0.2))\n",
    "model.add(LSTM(100,dropout=0.2,recurrent_dropout=0.2))\n",
    "model.add(Dense(44,activation='softmax'))\n",
    "model.compile(loss='sparse_categorical_crossentropy',optimizer='adam',metrics=['accuracy'])\n",
    "model.summary()"
   ]
  },
  {
   "cell_type": "code",
   "execution_count": 16,
   "id": "07c05b4d",
   "metadata": {
    "execution": {
     "iopub.execute_input": "2022-01-04T16:26:00.304375Z",
     "iopub.status.busy": "2022-01-04T16:26:00.302683Z",
     "iopub.status.idle": "2022-01-04T16:26:00.305037Z",
     "shell.execute_reply": "2022-01-04T16:26:00.305502Z",
     "shell.execute_reply.started": "2022-01-03T16:40:11.940462Z"
    },
    "papermill": {
     "duration": 0.031079,
     "end_time": "2022-01-04T16:26:00.305646",
     "exception": false,
     "start_time": "2022-01-04T16:26:00.274567",
     "status": "completed"
    },
    "tags": []
   },
   "outputs": [],
   "source": [
    "size=64\n",
    "epochs=20"
   ]
  },
  {
   "cell_type": "code",
   "execution_count": 17,
   "id": "83fd781b",
   "metadata": {
    "execution": {
     "iopub.execute_input": "2022-01-04T16:26:00.357970Z",
     "iopub.status.busy": "2022-01-04T16:26:00.357466Z",
     "iopub.status.idle": "2022-01-05T00:29:03.038876Z",
     "shell.execute_reply": "2022-01-05T00:29:03.038290Z",
     "shell.execute_reply.started": "2022-01-03T16:40:12.262002Z"
    },
    "papermill": {
     "duration": 28982.709367,
     "end_time": "2022-01-05T00:29:03.039031",
     "exception": false,
     "start_time": "2022-01-04T16:26:00.329664",
     "status": "completed"
    },
    "tags": []
   },
   "outputs": [
    {
     "name": "stderr",
     "output_type": "stream",
     "text": [
      "2022-01-04 16:26:00.437907: I tensorflow/compiler/mlir/mlir_graph_optimization_pass.cc:185] None of the MLIR Optimization Passes are enabled (registered 2)\n"
     ]
    },
    {
     "name": "stdout",
     "output_type": "stream",
     "text": [
      "Epoch 1/20\n",
      "3137/3137 [==============================] - 1362s 433ms/step - loss: 1.3266 - accuracy: 0.5983 - val_loss: 0.9518 - val_accuracy: 0.7036\n",
      "Epoch 2/20\n",
      "3137/3137 [==============================] - 1405s 448ms/step - loss: 0.7284 - accuracy: 0.7742 - val_loss: 0.8678 - val_accuracy: 0.7298\n",
      "Epoch 3/20\n",
      "3137/3137 [==============================] - 1445s 461ms/step - loss: 0.5165 - accuracy: 0.8374 - val_loss: 0.9186 - val_accuracy: 0.7283\n",
      "Epoch 4/20\n",
      "3137/3137 [==============================] - 1416s 451ms/step - loss: 0.3982 - accuracy: 0.8729 - val_loss: 0.9912 - val_accuracy: 0.7222\n",
      "Epoch 5/20\n",
      "3137/3137 [==============================] - 1434s 457ms/step - loss: 0.3236 - accuracy: 0.8949 - val_loss: 1.0606 - val_accuracy: 0.7203\n",
      "Epoch 6/20\n",
      "3137/3137 [==============================] - 1442s 460ms/step - loss: 0.2754 - accuracy: 0.9092 - val_loss: 1.1354 - val_accuracy: 0.7162\n",
      "Epoch 7/20\n",
      "3137/3137 [==============================] - 1408s 449ms/step - loss: 0.2394 - accuracy: 0.9206 - val_loss: 1.2352 - val_accuracy: 0.7114\n",
      "Epoch 8/20\n",
      "3137/3137 [==============================] - 1415s 451ms/step - loss: 0.2117 - accuracy: 0.9290 - val_loss: 1.2953 - val_accuracy: 0.7142\n",
      "Epoch 9/20\n",
      "3137/3137 [==============================] - 1432s 457ms/step - loss: 0.1907 - accuracy: 0.9353 - val_loss: 1.3628 - val_accuracy: 0.7120\n",
      "Epoch 10/20\n",
      "3137/3137 [==============================] - 1484s 473ms/step - loss: 0.1749 - accuracy: 0.9400 - val_loss: 1.4419 - val_accuracy: 0.7109\n",
      "Epoch 11/20\n",
      "3137/3137 [==============================] - 1481s 472ms/step - loss: 0.1590 - accuracy: 0.9452 - val_loss: 1.5071 - val_accuracy: 0.7099\n",
      "Epoch 12/20\n",
      "3137/3137 [==============================] - 1481s 472ms/step - loss: 0.1485 - accuracy: 0.9488 - val_loss: 1.5479 - val_accuracy: 0.7083\n",
      "Epoch 13/20\n",
      "3137/3137 [==============================] - 1428s 455ms/step - loss: 0.1370 - accuracy: 0.9518 - val_loss: 1.6176 - val_accuracy: 0.7079\n",
      "Epoch 14/20\n",
      "3137/3137 [==============================] - 1440s 459ms/step - loss: 0.1277 - accuracy: 0.9554 - val_loss: 1.6846 - val_accuracy: 0.7068\n",
      "Epoch 15/20\n",
      "3137/3137 [==============================] - 1482s 472ms/step - loss: 0.1188 - accuracy: 0.9587 - val_loss: 1.7450 - val_accuracy: 0.7059\n",
      "Epoch 16/20\n",
      "3137/3137 [==============================] - 1471s 469ms/step - loss: 0.1139 - accuracy: 0.9600 - val_loss: 1.7830 - val_accuracy: 0.7058\n",
      "Epoch 17/20\n",
      "3137/3137 [==============================] - 1477s 471ms/step - loss: 0.1064 - accuracy: 0.9629 - val_loss: 1.8341 - val_accuracy: 0.7095\n",
      "Epoch 18/20\n",
      "3137/3137 [==============================] - 1498s 478ms/step - loss: 0.1020 - accuracy: 0.9644 - val_loss: 1.8670 - val_accuracy: 0.7088\n",
      "Epoch 19/20\n",
      "3137/3137 [==============================] - 1485s 473ms/step - loss: 0.0974 - accuracy: 0.9660 - val_loss: 1.9161 - val_accuracy: 0.7063\n",
      "Epoch 20/20\n",
      "3137/3137 [==============================] - 1495s 477ms/step - loss: 0.0950 - accuracy: 0.9660 - val_loss: 1.9517 - val_accuracy: 0.7069\n"
     ]
    }
   ],
   "source": [
    "y_train = np.array(y_train)\n",
    "history=model.fit(x_train,y_train,\n",
    "                    epochs=epochs,\n",
    "                    validation_data =(x_test,y_test))\n",
    "# pickle.dump(history, open(\"history.p\", \"wb\"))\n",
    "model.save_weights('YTlstm.h5')"
   ]
  },
  {
   "cell_type": "code",
   "execution_count": 18,
   "id": "a04ebc94",
   "metadata": {
    "execution": {
     "iopub.execute_input": "2022-01-05T00:29:37.828653Z",
     "iopub.status.busy": "2022-01-05T00:29:37.827024Z",
     "iopub.status.idle": "2022-01-05T00:29:37.829228Z",
     "shell.execute_reply": "2022-01-05T00:29:37.829671Z",
     "shell.execute_reply.started": "2021-12-19T15:04:02.492696Z"
    },
    "papermill": {
     "duration": 17.274647,
     "end_time": "2022-01-05T00:29:37.829816",
     "exception": false,
     "start_time": "2022-01-05T00:29:20.555169",
     "status": "completed"
    },
    "tags": []
   },
   "outputs": [],
   "source": [
    "# model.load_weights(\"../input/load-models/YTlstm.h5\")"
   ]
  },
  {
   "cell_type": "code",
   "execution_count": 19,
   "id": "251a5cb5",
   "metadata": {
    "execution": {
     "iopub.execute_input": "2022-01-05T00:30:12.897551Z",
     "iopub.status.busy": "2022-01-05T00:30:12.896486Z",
     "iopub.status.idle": "2022-01-05T00:30:21.361966Z",
     "shell.execute_reply": "2022-01-05T00:30:21.361516Z",
     "shell.execute_reply.started": "2021-12-19T15:04:41.096585Z"
    },
    "papermill": {
     "duration": 25.929109,
     "end_time": "2022-01-05T00:30:21.362092",
     "exception": false,
     "start_time": "2022-01-05T00:29:55.432983",
     "status": "completed"
    },
    "tags": []
   },
   "outputs": [
    {
     "name": "stdout",
     "output_type": "stream",
     "text": [
      "[1.9516841173171997, 0.7068687081336975]\n"
     ]
    }
   ],
   "source": [
    "scores = model.evaluate(x_test, y_test, verbose=0)\n",
    "print(scores)"
   ]
  },
  {
   "cell_type": "code",
   "execution_count": 20,
   "id": "93eadd28",
   "metadata": {
    "execution": {
     "iopub.execute_input": "2022-01-05T00:30:56.418807Z",
     "iopub.status.busy": "2022-01-05T00:30:56.417388Z",
     "iopub.status.idle": "2022-01-05T00:30:56.419534Z",
     "shell.execute_reply": "2022-01-05T00:30:56.418091Z",
     "shell.execute_reply.started": "2021-12-19T15:07:11.438251Z"
    },
    "papermill": {
     "duration": 17.240507,
     "end_time": "2022-01-05T00:30:56.419692",
     "exception": false,
     "start_time": "2022-01-05T00:30:39.179185",
     "status": "completed"
    },
    "tags": []
   },
   "outputs": [],
   "source": [
    "# a=[x_test[0]]\n"
   ]
  },
  {
   "cell_type": "code",
   "execution_count": 21,
   "id": "e9506e21",
   "metadata": {
    "execution": {
     "iopub.execute_input": "2022-01-05T00:31:31.205912Z",
     "iopub.status.busy": "2022-01-05T00:31:31.204284Z",
     "iopub.status.idle": "2022-01-05T00:31:31.206523Z",
     "shell.execute_reply": "2022-01-05T00:31:31.206924Z",
     "shell.execute_reply.started": "2021-12-19T15:09:50.617091Z"
    },
    "papermill": {
     "duration": 17.55793,
     "end_time": "2022-01-05T00:31:31.207069",
     "exception": false,
     "start_time": "2022-01-05T00:31:13.649139",
     "status": "completed"
    },
    "tags": []
   },
   "outputs": [],
   "source": [
    "# y_pre = model.predict(x_test)"
   ]
  },
  {
   "cell_type": "code",
   "execution_count": 22,
   "id": "a7d40d09",
   "metadata": {
    "execution": {
     "iopub.execute_input": "2022-01-05T00:32:06.029265Z",
     "iopub.status.busy": "2022-01-05T00:32:06.028377Z",
     "iopub.status.idle": "2022-01-05T00:32:06.030652Z",
     "shell.execute_reply": "2022-01-05T00:32:06.030120Z",
     "shell.execute_reply.started": "2021-12-19T15:10:13.355005Z"
    },
    "papermill": {
     "duration": 17.528681,
     "end_time": "2022-01-05T00:32:06.030779",
     "exception": false,
     "start_time": "2022-01-05T00:31:48.502098",
     "status": "completed"
    },
    "tags": []
   },
   "outputs": [],
   "source": [
    "# y_pred = np.argmax(y_pre, axis=1)"
   ]
  },
  {
   "cell_type": "code",
   "execution_count": 23,
   "id": "981ad442",
   "metadata": {
    "execution": {
     "iopub.execute_input": "2022-01-05T00:32:40.815482Z",
     "iopub.status.busy": "2022-01-05T00:32:40.813780Z",
     "iopub.status.idle": "2022-01-05T00:32:40.816084Z",
     "shell.execute_reply": "2022-01-05T00:32:40.816530Z",
     "shell.execute_reply.started": "2021-12-19T15:10:22.206927Z"
    },
    "papermill": {
     "duration": 17.773173,
     "end_time": "2022-01-05T00:32:40.816676",
     "exception": false,
     "start_time": "2022-01-05T00:32:23.043503",
     "status": "completed"
    },
    "tags": []
   },
   "outputs": [],
   "source": [
    "# print(y_pred)"
   ]
  },
  {
   "cell_type": "code",
   "execution_count": 24,
   "id": "7270eee5",
   "metadata": {
    "execution": {
     "iopub.execute_input": "2022-01-05T00:33:15.514814Z",
     "iopub.status.busy": "2022-01-05T00:33:15.513230Z",
     "iopub.status.idle": "2022-01-05T00:33:15.515422Z",
     "shell.execute_reply": "2022-01-05T00:33:15.515827Z",
     "shell.execute_reply.started": "2021-12-19T15:11:26.272098Z"
    },
    "papermill": {
     "duration": 17.792827,
     "end_time": "2022-01-05T00:33:15.515961",
     "exception": false,
     "start_time": "2022-01-05T00:32:57.723134",
     "status": "completed"
    },
    "tags": []
   },
   "outputs": [],
   "source": [
    "# print(y_test)"
   ]
  },
  {
   "cell_type": "code",
   "execution_count": 25,
   "id": "22acd818",
   "metadata": {
    "execution": {
     "iopub.execute_input": "2022-01-05T00:33:50.160531Z",
     "iopub.status.busy": "2022-01-05T00:33:50.159804Z",
     "iopub.status.idle": "2022-01-05T00:33:50.435476Z",
     "shell.execute_reply": "2022-01-05T00:33:50.434908Z"
    },
    "papermill": {
     "duration": 18.180851,
     "end_time": "2022-01-05T00:33:50.435723",
     "exception": true,
     "start_time": "2022-01-05T00:33:32.254872",
     "status": "failed"
    },
    "tags": []
   },
   "outputs": [
    {
     "ename": "TypeError",
     "evalue": "'History' object is not subscriptable",
     "output_type": "error",
     "traceback": [
      "\u001b[0;31m---------------------------------------------------------------------------\u001b[0m",
      "\u001b[0;31mTypeError\u001b[0m                                 Traceback (most recent call last)",
      "\u001b[0;32m/tmp/ipykernel_23/418809583.py\u001b[0m in \u001b[0;36m<module>\u001b[0;34m\u001b[0m\n\u001b[0;32m----> 1\u001b[0;31m \u001b[0mplt\u001b[0m\u001b[0;34m.\u001b[0m\u001b[0mplot\u001b[0m\u001b[0;34m(\u001b[0m\u001b[0mhistory\u001b[0m\u001b[0;34m[\u001b[0m\u001b[0;34m'acc'\u001b[0m\u001b[0;34m]\u001b[0m\u001b[0;34m)\u001b[0m\u001b[0;34m\u001b[0m\u001b[0;34m\u001b[0m\u001b[0m\n\u001b[0m\u001b[1;32m      2\u001b[0m \u001b[0mplt\u001b[0m\u001b[0;34m.\u001b[0m\u001b[0mplot\u001b[0m\u001b[0;34m(\u001b[0m\u001b[0mhistory\u001b[0m\u001b[0;34m[\u001b[0m\u001b[0;34m'val_acc'\u001b[0m\u001b[0;34m]\u001b[0m\u001b[0;34m)\u001b[0m\u001b[0;34m\u001b[0m\u001b[0;34m\u001b[0m\u001b[0m\n\u001b[1;32m      3\u001b[0m \u001b[0mplt\u001b[0m\u001b[0;34m.\u001b[0m\u001b[0mtitle\u001b[0m\u001b[0;34m(\u001b[0m\u001b[0;34m'model accuracy'\u001b[0m\u001b[0;34m)\u001b[0m\u001b[0;34m\u001b[0m\u001b[0;34m\u001b[0m\u001b[0m\n\u001b[1;32m      4\u001b[0m \u001b[0mplt\u001b[0m\u001b[0;34m.\u001b[0m\u001b[0mylabel\u001b[0m\u001b[0;34m(\u001b[0m\u001b[0;34m'accuracy'\u001b[0m\u001b[0;34m)\u001b[0m\u001b[0;34m\u001b[0m\u001b[0;34m\u001b[0m\u001b[0m\n\u001b[1;32m      5\u001b[0m \u001b[0mplt\u001b[0m\u001b[0;34m.\u001b[0m\u001b[0mxlabel\u001b[0m\u001b[0;34m(\u001b[0m\u001b[0;34m'epoch'\u001b[0m\u001b[0;34m)\u001b[0m\u001b[0;34m\u001b[0m\u001b[0;34m\u001b[0m\u001b[0m\n",
      "\u001b[0;31mTypeError\u001b[0m: 'History' object is not subscriptable"
     ]
    }
   ],
   "source": [
    "plt.plot(history['acc'])\n",
    "plt.plot(history['val_acc'])\n",
    "plt.title('model accuracy')\n",
    "plt.ylabel('accuracy')\n",
    "plt.xlabel('epoch')\n",
    "plt.legend(['train', 'test'], loc='upper left')"
   ]
  },
  {
   "cell_type": "code",
   "execution_count": null,
   "id": "32cf8c6c",
   "metadata": {
    "papermill": {
     "duration": null,
     "end_time": null,
     "exception": null,
     "start_time": null,
     "status": "pending"
    },
    "tags": []
   },
   "outputs": [],
   "source": [
    "plt.plot(history['loss'])\n",
    "plt.plot(history['val_loss'])\n",
    "plt.title('model loss')\n",
    "plt.ylabel('loss')\n",
    "plt.xlabel('epoch')\n",
    "plt.legend(['train', 'test'], loc='upper left')"
   ]
  }
 ],
 "metadata": {
  "kernelspec": {
   "display_name": "Python 3",
   "language": "python",
   "name": "python3"
  },
  "language_info": {
   "codemirror_mode": {
    "name": "ipython",
    "version": 3
   },
   "file_extension": ".py",
   "mimetype": "text/x-python",
   "name": "python",
   "nbconvert_exporter": "python",
   "pygments_lexer": "ipython3",
   "version": "3.7.12"
  },
  "papermill": {
   "default_parameters": {},
   "duration": 29312.397318,
   "end_time": "2022-01-05T00:34:10.768231",
   "environment_variables": {},
   "exception": true,
   "input_path": "__notebook__.ipynb",
   "output_path": "__notebook__.ipynb",
   "parameters": {},
   "start_time": "2022-01-04T16:25:38.370913",
   "version": "2.3.3"
  }
 },
 "nbformat": 4,
 "nbformat_minor": 5
}
